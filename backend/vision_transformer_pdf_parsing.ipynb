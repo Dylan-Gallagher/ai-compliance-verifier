{
 "cells": [
  {
   "cell_type": "code",
   "execution_count": 2,
   "metadata": {},
   "outputs": [
    {
     "name": "stdout",
     "output_type": "stream",
     "text": [
      "None\n",
      "API error occurred: Status 401\n",
      "{\"detail\":\"API key is missing, please provide an API key in the header.\"}\n"
     ]
    }
   ],
   "source": [
    "from unstructured_client import UnstructuredClient\n",
    "from unstructured_client.models import shared\n",
    "from unstructured_client.models.errors import SDKError\n",
    "import os\n",
    "\n",
    "api_key = os.getenv('UNSTRUCTURED_API_KEY')\n",
    "print(api_key)\n",
    "\n",
    "# Update here with your api key and server url\n",
    "client = UnstructuredClient(\n",
    "    api_key_auth=api_key,\n",
    "    server_url=\"https://api.unstructured.io/general/v0/general\",\n",
    ")\n",
    "\n",
    "# Update here with your filename\n",
    "filename = \"ai_act/article_1_ai_act.pdf\"\n",
    "\n",
    "with open(filename, \"rb\") as f:\n",
    "    files=shared.Files(\n",
    "        content=f.read(),\n",
    "        file_name=filename,\n",
    "    )\n",
    "\n",
    "# You can choose fast, hi_res or ocr_only for strategy, learn more in the docs at step 4\n",
    "req = shared.PartitionParameters(files=files, strategy=\"auto\")\n",
    "\n",
    "try:\n",
    "    resp = client.general.partition(req)\n",
    "    print(json.dumps(resp.elements, indent=2))\n",
    "except SDKError as e:\n",
    "    print(e)\n",
    "from IPython.display import JSON\n",
    "\n",
    "import json\n",
    "\n",
    "from unstructured_client import UnstructuredClient\n",
    "from unstructured_client.models import shared\n",
    "from unstructured_client.models.errors import SDKError\n",
    "from unstructured.partition.html import partition_html\n",
    "from unstructured.staging.base import dict_to_elements, elements_to_json"
   ]
  },
  {
   "cell_type": "code",
   "execution_count": null,
   "metadata": {},
   "outputs": [],
   "source": []
  }
 ],
 "metadata": {
  "kernelspec": {
   "display_name": "base",
   "language": "python",
   "name": "python3"
  },
  "language_info": {
   "codemirror_mode": {
    "name": "ipython",
    "version": 3
   },
   "file_extension": ".py",
   "mimetype": "text/x-python",
   "name": "python",
   "nbconvert_exporter": "python",
   "pygments_lexer": "ipython3",
   "version": "3.10.14"
  }
 },
 "nbformat": 4,
 "nbformat_minor": 2
}
