{
 "cells": [
  {
   "cell_type": "markdown",
   "metadata": {},
   "source": [
    "# Text2Bool\n",
    "\n",
    "It would be useful for us (from a compliance verification point-of-view) if we could have a text2bool tool that could take in a sentence from the AI act and give out a boolean expression in multiple boolean variables that's output would be a boolean value representing whether the user is compliant with that particular regulation.\n",
    "\n",
    "We found that simple relations (e.g. edges in a knowledge graph) struggle to encode some of the more complicated, conditional requirements seen in the AI Act. \n",
    "Boolean expressions could be used to encode the entire rulesego\n",
    "\n",
    "e.g. A simplified ruleset could be\n",
    "\n",
    "`compliant = (used_large_compute && is_open_source) || (using_facial_recognition && (for_research_purposes  && is_open_source) || (used_by_governments && assists_in_criminal_investigations))`\n",
    "\n",
    "This reflects the fact that certain techniques are only allowed in certain circumstances (e.g. facial recognition may be allowed only if it's open source and for research purposes or used by the government for crime investigation)."
   ]
  },
  {
   "cell_type": "markdown",
   "metadata": {},
   "source": [
    "## Generating rulesets\n",
    "\n",
    "So far, we pass in legal texts sentence-by-sentence and try to extract relationships from them, e.g. \"AI systems cannot use facial recognition\". If we picked up on a relationship like that then we would use that in the knowledge graph, which would be applied to all AI systems. This is obviously a naive approach as there are certain situations where this doesn't apply.\n",
    "\n",
    "We now have access to metadata about each sentence, such as the article number and point/subpoint it came from. This is useful because if we know that all of the rules in a certain article only apply in a certain situation, then we can append that to the boolean ruleset. E.g. if we read \"Models under 1 billion parameters are not subject to the regulations set out in Article X\", then we can find that section of the ruleset and append `&& has_over_1B_params` to that section of the ruleset. \n",
    "\n",
    "We can probably implement this as a custom Python class that has some functionality built on top of a standard boolean variable"
   ]
  },
  {
   "cell_type": "code",
   "execution_count": 10,
   "metadata": {},
   "outputs": [
    {
     "name": "stdout",
     "output_type": "stream",
     "text": [
      "False True\n"
     ]
    }
   ],
   "source": [
    "class ExtendedBool:\n",
    "    def __init__(self, value, case_or_situation=None, article_num=0):\n",
    "        self.value = value\n",
    "        self.case_or_situation = case_or_situation\n",
    "        self.article_num = article_num\n",
    "\n",
    "    # TODO: Overload the logical opeerators (\"and\", \"or\", etc) instead of these functions\n",
    "\n",
    "    def _and(self, other):\n",
    "        return ExtendedBool(self.value and other.value)\n",
    "\n",
    "    def _or(self, other):\n",
    "        return ExtendedBool(self.value or other.value)\n",
    "\n",
    "    def __repr__(self):\n",
    "        return f\"{self.value}\"\n",
    "\n",
    "    \n",
    "bool1 = ExtendedBool(True, 24)\n",
    "bool2 = ExtendedBool(False, 12)\n",
    "bool3 = bool1._and(bool2)\n",
    "bool4 = bool1._or(bool2)\n",
    "print(bool3, bool4)\n"
   ]
  },
  {
   "cell_type": "code",
   "execution_count": 15,
   "metadata": {},
   "outputs": [],
   "source": [
    "class Ruleset:\n",
    "    def __init__(self, ruleset):\n",
    "        self.ruleset = ruleset\n",
    "    \n",
    "    # This might not work because it could evaluate the ruleset to true or false before, \n",
    "    #   so I need to think of a way to represent a boolean expression rather than just a boolean variable\n",
    "    def modify(self, article_num, case_or_situation, point_num=None, subpoint_num=None):\n",
    "        # TODO: Add functionality for points and subpoints\n",
    "        if not point_num and not subpoint_num:\n",
    "            self.ruleset[article_num] = self.ruleset[article_num] and case_or_situation"
   ]
  },
  {
   "cell_type": "code",
   "execution_count": 16,
   "metadata": {},
   "outputs": [],
   "source": [
    "# User model data, pretend this was extracted from the model documentation\n",
    "is_over_1b_params = False\n",
    "is_open_source = True\n",
    "for_research_purposes = True\n",
    "\n",
    "ruleset_dict = {\n",
    "    \"Article 1\":\n",
    "    {\n",
    "        \"Point 1\": is_open_source or for_research_purposes\n",
    "    }\n",
    "}\n",
    "\n",
    "ruleset = Ruleset(ruleset_dict)\n",
    "ruleset.modify(\"Article 1\", ExtendedBool(True, is_over_1b_params))"
   ]
  },
  {
   "cell_type": "code",
   "execution_count": 17,
   "metadata": {},
   "outputs": [],
   "source": [
    "# TODO: Finish the following example code to \"automatically\" change the ruleset given a sentence.\n",
    "\n",
    "def find_which_rules_apply_to_which_articles(ai_act_sentence, ruleset):\n",
    "    # Pretend there's some actual code here... Maybe we can get an LLM to do this on the fly\n",
    "    if sentence == \"Article 1 does not apply to models under 1b params\":\n",
    "        ruleset.modify(\"Article 1\", ExtendedBool(True, is_over_1b_params))\n",
    "    elif sentence == \"Article 2 does not apply to open_source_models\":\n",
    "        ruleset.modify(\"Article 2\", ExtendedBool(True, is_open_source))\n",
    "\n",
    "\n",
    "sentence = \"Article 1 does not apply to models under 1b params\"\n",
    "find_which_rules_apply_to_which_articles(sentence, ruleset)\n"
   ]
  },
  {
   "cell_type": "markdown",
   "metadata": {},
   "source": [
    "# How to represent Boolean Expressions\n",
    "We can have an extended Boolean Expression class that contains one or two boolean operands and a boolean operator. We can construct Boolean Expressions from these and evaluate them by recursively evaluating the sub-boolean expressions.\n"
   ]
  },
  {
   "cell_type": "code",
   "execution_count": null,
   "metadata": {},
   "outputs": [],
   "source": [
    "class ExtendedBooleanExpression:\n",
    "    def __init__(self, operator, first, second=None):\n",
    "        self.operator = operator\n",
    "        self.first = first\n",
    "        self.second = second\n",
    "        self.evaluate()\n",
    "\n",
    "    def evaluate(self):\n",
    "        # TODO: Make the below line work, basically evaluate the boolean expression\n",
    "        # self.value = self.first self.operator self.second\n",
    "    \n",
    "    "
   ]
  }
 ],
 "metadata": {
  "kernelspec": {
   "display_name": "base",
   "language": "python",
   "name": "python3"
  },
  "language_info": {
   "codemirror_mode": {
    "name": "ipython",
    "version": 3
   },
   "file_extension": ".py",
   "mimetype": "text/x-python",
   "name": "python",
   "nbconvert_exporter": "python",
   "pygments_lexer": "ipython3",
   "version": "3.10.14"
  }
 },
 "nbformat": 4,
 "nbformat_minor": 2
}
