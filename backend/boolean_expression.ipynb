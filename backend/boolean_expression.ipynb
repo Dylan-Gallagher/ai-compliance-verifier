{
 "cells": [
  {
   "cell_type": "markdown",
   "metadata": {},
   "source": [
    "# Text2Bool\n",
    "\n",
    "It would be useful for us (from a compliance verification point-of-view) if we could have a text2bool tool that could take in a sentence from the AI act and give out a boolean expression in multiple boolean variables that's output would be a boolean value representing whether the user is compliant with that particular regulation.\n",
    "\n",
    "We found that simple relations (e.g. edges in a knowledge graph) struggle to encode some of the more complicated, conditional requirements seen in the AI Act. \n",
    "Boolean expressions could be used to encode the entire rulesego\n",
    "\n",
    "e.g. A simplified ruleset could be\n",
    "\n",
    "`compliant = (used_large_compute && is_open_source) || (using_facial_recognition && (for_research_purposes  && is_open_source) || (used_by_governments && assists_in_criminal_investigations))`\n",
    "\n",
    "This reflects the fact that certain techniques are only allowed in certain circumstances (e.g. facial recognition may be allowed only if it's open source and for research purposes or used by the government for crime investigation)."
   ]
  },
  {
   "cell_type": "markdown",
   "metadata": {},
   "source": [
    "## Generating rulesets\n",
    "\n",
    "So far, we pass in legal texts sentence-by-sentence and try to extract relationships from them, e.g. \"AI systems cannot use facial recognition\". If we picked up on a relationship like that then we would use that in the knowledge graph, which would be applied to all AI systems. This is obviously a naive approach as there are certain situations where this doesn't apply.\n",
    "\n",
    "We now have access to metadata about each sentence, such as the article number and point/subpoint it came from. This is useful because if we know that all of the rules in a certain article only apply in a certain situation, then we can append that to the boolean ruleset. E.g. if we read \"Models under 1 billion parameters are not subject to the regulations set out in Article X\", then we can find that section of the ruleset and append `&& has_over_1B_params` to that section of the ruleset. \n",
    "\n",
    "We can probably implement this as a custom Python class that has some functionality built on top of a standard boolean variable"
   ]
  },
  {
   "cell_type": "code",
   "execution_count": 10,
   "metadata": {},
   "outputs": [
    {
     "name": "stdout",
     "output_type": "stream",
     "text": [
      "False True\n"
     ]
    }
   ],
   "source": [
    "class ExtendedBool:\n",
    "    \"\"\"\n",
    "    Replaced by BooleanExpression class ;(\n",
    "    RIP ExtendedBool 2024-2024\n",
    "    \"\"\"\n",
    "    def __init__(self, value, case_or_situation=None, article_num=0):\n",
    "        self.value = value\n",
    "        self.case_or_situation = case_or_situation\n",
    "        self.article_num = article_num\n",
    "\n",
    "    # TODO: Overload the logical opeerators (\"and\", \"or\", etc) instead of these functions\n",
    "\n",
    "    def _and(self, other):\n",
    "        return ExtendedBool(self.value and other.value)\n",
    "\n",
    "    def _or(self, other):\n",
    "        return ExtendedBool(self.value or other.value)\n",
    "\n",
    "    def __repr__(self):\n",
    "        return f\"{self.value}\"\n",
    "\n",
    "    \n",
    "bool1 = ExtendedBool(True, 24)\n",
    "bool2 = ExtendedBool(False, 12)\n",
    "bool3 = bool1._and(bool2)\n",
    "bool4 = bool1._or(bool2)\n",
    "print(bool3, bool4)\n"
   ]
  },
  {
   "cell_type": "code",
   "execution_count": 15,
   "metadata": {},
   "outputs": [],
   "source": [
    "class Ruleset:\n",
    "    def __init__(self, ruleset):\n",
    "        self.ruleset = ruleset\n",
    "    \n",
    "    # This might not work because it could evaluate the ruleset to true or false before, \n",
    "    #   so I need to think of a way to represent a boolean expression rather than just a boolean variable\n",
    "    def modify(self, article_num, case_or_situation, point_num=None, subpoint_num=None):\n",
    "        # TODO: Add functionality for points and subpoints\n",
    "        if not point_num and not subpoint_num:\n",
    "            self.ruleset[article_num] = self.ruleset[article_num] and case_or_situation"
   ]
  },
  {
   "cell_type": "code",
   "execution_count": 16,
   "metadata": {},
   "outputs": [],
   "source": [
    "# User model data, pretend this was extracted from the model documentation\n",
    "is_over_1b_params = False\n",
    "is_open_source = True\n",
    "for_research_purposes = True\n",
    "\n",
    "ruleset_dict = {\n",
    "    \"Article 1\":\n",
    "    {\n",
    "        \"Point 1\": is_open_source or for_research_purposes\n",
    "    }\n",
    "}\n",
    "\n",
    "ruleset = Ruleset(ruleset_dict)\n",
    "ruleset.modify(\"Article 1\", ExtendedBool(True, is_over_1b_params))"
   ]
  },
  {
   "cell_type": "code",
   "execution_count": 17,
   "metadata": {},
   "outputs": [],
   "source": [
    "# TODO: Finish the following example code to \"automatically\" change the ruleset given a sentence.\n",
    "\n",
    "def find_which_rules_apply_to_which_articles(ai_act_sentence, ruleset):\n",
    "    # Pretend there's some actual code here... Maybe we can get an LLM to do this on the fly\n",
    "    if sentence == \"Article 1 does not apply to models under 1b params\":\n",
    "        ruleset.modify(\"Article 1\", ExtendedBool(True, is_over_1b_params))\n",
    "    elif sentence == \"Article 2 does not apply to open_source_models\":\n",
    "        ruleset.modify(\"Article 2\", ExtendedBool(True, is_open_source))\n",
    "\n",
    "\n",
    "sentence = \"Article 1 does not apply to models under 1b params\"\n",
    "find_which_rules_apply_to_which_articles(sentence, ruleset)\n"
   ]
  },
  {
   "cell_type": "markdown",
   "metadata": {},
   "source": [
    "# How to represent Boolean Expressions\n",
    "We can have an extended Boolean Expression class that contains one or two boolean operands and a boolean operator. We can construct Boolean Expressions from these and evaluate them by recursively evaluating the sub-boolean expressions.\n"
   ]
  },
  {
   "cell_type": "code",
   "execution_count": 65,
   "metadata": {},
   "outputs": [],
   "source": [
    "class BooleanExpression:\n",
    "    \"\"\"\n",
    "    Represents a Boolean expression.\n",
    "\n",
    "    first: ExtendedBool\n",
    "    second (optional): ExtendedBool\n",
    "    operator (optional): String\n",
    "    \"\"\"\n",
    "    def __init__(self, first=None, operator=None, second=None, value=None):\n",
    "        self.operator = operator\n",
    "        self.first = first\n",
    "        self.second = second\n",
    "        self.evaluate(value)\n",
    "\n",
    "\n",
    "    def evaluate(self, value=None):\n",
    "        if (not self.first) or (not self.second):\n",
    "            self.value = value\n",
    "\n",
    "        # Debugging\n",
    "        print(\"Got Here, {}\")\n",
    "\n",
    "        if self.operator == \"AND\" and self.first.value and self.second.value:\n",
    "            self.value = True\n",
    "        if self.operator == \"OR\" and (self.first.value or self.second.value):\n",
    "            self.value = True\n",
    "        if self.operator == \"NOT\":\n",
    "            self.value = not self.first.value\n",
    "\n",
    "    def __and__(self, other):\n",
    "        return BooleanExpression(first=self, second=other, operator=\"AND\", value=self.evaluate())\n",
    "\n",
    "    def __or__(self, other):\n",
    "        return BooleanExpression(first=self, second=other, operator=\"OR\")\n",
    "\n",
    "    def __invert__(self):\n",
    "        return BooleanExpression(first=self, operator=\"NOT\")\n",
    "\n",
    "    def __bool__(self):\n",
    "        return bool(self.evaluate())\n",
    "    \n",
    "    def __repr__(self):\n",
    "        return f\"ExtendedBool({self.first=}, {self.second=}, {self.value=}, {self.operator=})\""
   ]
  },
  {
   "cell_type": "code",
   "execution_count": null,
   "metadata": {},
   "outputs": [],
   "source": []
  },
  {
   "cell_type": "code",
   "execution_count": 16,
   "metadata": {},
   "outputs": [],
   "source": [
    "# Pseudocode for how I want the class to work\n",
    "\n",
    "def string_to_bool(str):\n",
    "    # TODO: Make this more robust\n",
    "    return str == \"y\"\n",
    "\n",
    "\n",
    "def getBoolExpr(name, query):\n",
    "    bool_value = string_to_bool(input(query))\n",
    "    return BooleanExpression(name, bool_value)\n",
    "\n",
    "\n",
    "user_params = {}\n",
    "\n",
    "# Query the users to get information about their situation\n",
    "user_params[\"is_open_source\"] = getBoolExpr(\"is_open_source\", \"Is your code open-source (y/n): \")\n",
    "user_params[\"over_1b_params\"] = getBoolExpr(\"over_1b_params\", \"Does your AI system have >1b params (y/n): \")\n",
    "# ... TODO"
   ]
  },
  {
   "cell_type": "code",
   "execution_count": 19,
   "metadata": {},
   "outputs": [],
   "source": [
    "# Boolean expression representing the requirement (is_open_source or (not over_1b_params))\n",
    "not_over_1b_params = BooleanExpression(operator=\"NOT\", first=user_params[\"over_1b_params\"])\n",
    "is_open_source_or_not_over_1b_params = BooleanExpression(first = user_params[\"is_open_source\"],\n",
    "                                                         operator = \"OR\",\n",
    "                                                         second = not_over_1b_params)\n",
    "\n",
    "# TODO: Write code to replace that with something much simpler, the equivalent should be:\n",
    "# requirement = is_open_source or not over_1b_params\n",
    "# Hopefully python operator overloading allows this and retains the correct operator precedence\n",
    "\n",
    "requirement = is_open_source_or_not_over_1b_params"
   ]
  },
  {
   "cell_type": "code",
   "execution_count": 46,
   "metadata": {},
   "outputs": [
    {
     "ename": "TypeError",
     "evalue": "__bool__ should return bool, returned NoneType",
     "output_type": "error",
     "traceback": [
      "\u001b[0;31m---------------------------------------------------------------------------\u001b[0m",
      "\u001b[0;31mTypeError\u001b[0m                                 Traceback (most recent call last)",
      "Cell \u001b[0;32mIn[46], line 8\u001b[0m\n\u001b[1;32m      5\u001b[0m not_name_is_dylan \u001b[38;5;241m=\u001b[39m \u001b[38;5;241m~\u001b[39mname_is_dylan\n\u001b[1;32m      7\u001b[0m dylan_and_studies_at_trinity \u001b[38;5;241m=\u001b[39m name_is_dylan \u001b[38;5;241m&\u001b[39m studies_at_trinity\n\u001b[0;32m----> 8\u001b[0m description_of_me \u001b[38;5;241m=\u001b[39m \u001b[43mname_is_dylan\u001b[49m\u001b[43m \u001b[49m\u001b[38;5;241;43m&\u001b[39;49m\u001b[43m \u001b[49m\u001b[43mstudies_at_trinity\u001b[49m\u001b[43m \u001b[49m\u001b[38;5;241;43m&\u001b[39;49m\u001b[43m \u001b[49m\u001b[38;5;241;43m~\u001b[39;49m\u001b[43mlikes_karl_marx\u001b[49m\n",
      "Cell \u001b[0;32mIn[45], line 28\u001b[0m, in \u001b[0;36mBooleanExpression.__and__\u001b[0;34m(self, other)\u001b[0m\n\u001b[1;32m     27\u001b[0m \u001b[38;5;28;01mdef\u001b[39;00m \u001b[38;5;21m__and__\u001b[39m(\u001b[38;5;28mself\u001b[39m, other):\n\u001b[0;32m---> 28\u001b[0m     \u001b[38;5;28;01mreturn\u001b[39;00m \u001b[43mBooleanExpression\u001b[49m\u001b[43m(\u001b[49m\u001b[43mfirst\u001b[49m\u001b[38;5;241;43m=\u001b[39;49m\u001b[38;5;28;43mself\u001b[39;49m\u001b[43m,\u001b[49m\u001b[43m \u001b[49m\u001b[43msecond\u001b[49m\u001b[38;5;241;43m=\u001b[39;49m\u001b[43mother\u001b[49m\u001b[43m,\u001b[49m\u001b[43m \u001b[49m\u001b[43moperator\u001b[49m\u001b[38;5;241;43m=\u001b[39;49m\u001b[38;5;124;43m\"\u001b[39;49m\u001b[38;5;124;43mAND\u001b[39;49m\u001b[38;5;124;43m\"\u001b[39;49m\u001b[43m)\u001b[49m\n",
      "Cell \u001b[0;32mIn[45], line 14\u001b[0m, in \u001b[0;36mBooleanExpression.__init__\u001b[0;34m(self, first, operator, second, value)\u001b[0m\n\u001b[1;32m     12\u001b[0m \u001b[38;5;28mself\u001b[39m\u001b[38;5;241m.\u001b[39msecond \u001b[38;5;241m=\u001b[39m second\n\u001b[1;32m     13\u001b[0m \u001b[38;5;28mself\u001b[39m\u001b[38;5;241m.\u001b[39mvalue \u001b[38;5;241m=\u001b[39m value\n\u001b[0;32m---> 14\u001b[0m \u001b[38;5;28;43mself\u001b[39;49m\u001b[38;5;241;43m.\u001b[39;49m\u001b[43mevaluate\u001b[49m\u001b[43m(\u001b[49m\u001b[43m)\u001b[49m\n",
      "Cell \u001b[0;32mIn[45], line 17\u001b[0m, in \u001b[0;36mBooleanExpression.evaluate\u001b[0;34m(self)\u001b[0m\n\u001b[1;32m     16\u001b[0m \u001b[38;5;28;01mdef\u001b[39;00m \u001b[38;5;21mevaluate\u001b[39m(\u001b[38;5;28mself\u001b[39m):\n\u001b[0;32m---> 17\u001b[0m     \u001b[38;5;28;01mif\u001b[39;00m \u001b[38;5;129;01mnot\u001b[39;00m \u001b[38;5;28mself\u001b[39m\u001b[38;5;241m.\u001b[39mfirst \u001b[38;5;129;01mor\u001b[39;00m \u001b[38;5;129;01mnot\u001b[39;00m \u001b[38;5;28mself\u001b[39m\u001b[38;5;241m.\u001b[39msecond:\n\u001b[1;32m     18\u001b[0m         \u001b[38;5;28;01mreturn\u001b[39;00m \u001b[38;5;28mself\u001b[39m\u001b[38;5;241m.\u001b[39mvalue\n\u001b[1;32m     20\u001b[0m     \u001b[38;5;28;01mif\u001b[39;00m \u001b[38;5;28mself\u001b[39m\u001b[38;5;241m.\u001b[39moperator \u001b[38;5;241m==\u001b[39m \u001b[38;5;124m\"\u001b[39m\u001b[38;5;124mAND\u001b[39m\u001b[38;5;124m\"\u001b[39m \u001b[38;5;129;01mand\u001b[39;00m \u001b[38;5;28mself\u001b[39m\u001b[38;5;241m.\u001b[39mfirst\u001b[38;5;241m.\u001b[39mvalue \u001b[38;5;129;01mand\u001b[39;00m \u001b[38;5;28mself\u001b[39m\u001b[38;5;241m.\u001b[39msecond\u001b[38;5;241m.\u001b[39mvalue:\n",
      "\u001b[0;31mTypeError\u001b[0m: __bool__ should return bool, returned NoneType"
     ]
    }
   ],
   "source": [
    "name_is_dylan = BooleanExpression(value=True)\n",
    "studies_at_trinity = BooleanExpression(value=True)\n",
    "likes_karl_marx = BooleanExpression(value=False)\n",
    "\n",
    "not_name_is_dylan = ~name_is_dylan\n",
    "\n",
    "dylan_and_studies_at_trinity = name_is_dylan & studies_at_trinity\n",
    "description_of_me = name_is_dylan & studies_at_trinity & ~likes_karl_marx"
   ]
  },
  {
   "cell_type": "code",
   "execution_count": 68,
   "metadata": {},
   "outputs": [
    {
     "name": "stdout",
     "output_type": "stream",
     "text": [
      "Got Here, {self}\n",
      "Got Here, {self}\n",
      "Got Here, {self}\n",
      "Got Here, {self}\n",
      "Got Here, {self}\n",
      "a=ExtendedBool(self.first=None, self.second=None, self.value=None, self.operator=None)\n",
      "b=ExtendedBool(self.first=None, self.second=None, self.value=True, self.operator=None)\n"
     ]
    }
   ],
   "source": [
    "a = BooleanExpression(value=True)\n",
    "b = BooleanExpression(value=True)\n",
    "c = a & b\n",
    "print(f\"{a=}\")\n",
    "print(f\"{b=}\")\n"
   ]
  },
  {
   "cell_type": "code",
   "execution_count": 40,
   "metadata": {},
   "outputs": [
    {
     "data": {
      "text/plain": [
       "ExtendedBool(self.first=ExtendedBool(self.first=None, self.second=None, self.value=True, self.operator=None), self.second=ExtendedBool(self.first=None, self.second=None, self.value=True, self.operator=None), self.value=None, self.operator='AND')"
      ]
     },
     "execution_count": 40,
     "metadata": {},
     "output_type": "execute_result"
    }
   ],
   "source": [
    "dylan_and_studies_at_trinity"
   ]
  },
  {
   "cell_type": "code",
   "execution_count": null,
   "metadata": {},
   "outputs": [],
   "source": [
    "# Sample sentece (not actually from the AI Act)\n",
    "sentence = \"If the AI system is open source or it is not over 1 billion parameters in size, then the provider of the AI system does not have to undergo extra safety testing\"\n",
    "\n",
    "\n"
   ]
  },
  {
   "cell_type": "markdown",
   "metadata": {},
   "source": [
    "# Alternative Approaches\n",
    "\n",
    "There are multiple ways we can approach this:\n",
    "\n",
    "## Labelling each edge\n",
    "While going through the act, we generate a number of edges in the knowledge graph. These represent the \"requirements\" set out in the act. Within each point, there could also be more information relating to the exact situation that the requirement must be met. These situations can be represented by a boolean expression. \n",
    "\n",
    "So each time we go over a sentence, we get:\n",
    "    1. A requirement / relationship in the knowledge graph\n",
    "    2. A boolean expression representing the situation where that requirement has to be satisfied.\n",
    "\n",
    "A sample pseudocode would be:\n",
    "\n",
    "```python\n",
    "for sentence in ai_act:\n",
    "    relationship, situation = find_relationship(sentence)  # Query an LLM to do relation extraction and boolean situation extraction\n",
    "```\n",
    "\n",
    "The 'find_relationship()` above would query a language model (probably with few-shot examples) and parse the output and return a triplet representing the relationship as well as custom BooleanExpression class representing the situation.\n"
   ]
  }
 ],
 "metadata": {
  "kernelspec": {
   "display_name": "base",
   "language": "python",
   "name": "python3"
  },
  "language_info": {
   "codemirror_mode": {
    "name": "ipython",
    "version": 3
   },
   "file_extension": ".py",
   "mimetype": "text/x-python",
   "name": "python",
   "nbconvert_exporter": "python",
   "pygments_lexer": "ipython3",
   "version": "3.10.14"
  }
 },
 "nbformat": 4,
 "nbformat_minor": 2
}
